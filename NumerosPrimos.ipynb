{
  "nbformat": 4,
  "nbformat_minor": 0,
  "metadata": {
    "colab": {
      "provenance": []
    },
    "kernelspec": {
      "name": "python3",
      "display_name": "Python 3"
    },
    "language_info": {
      "name": "python"
    }
  },
  "cells": [
    {
      "cell_type": "code",
      "execution_count": 56,
      "metadata": {
        "colab": {
          "base_uri": "https://localhost:8080/"
        },
        "id": "i4HOid_LHD9f",
        "outputId": "ca8b8b00-3c7c-40c1-9280-1b5f77ef087d"
      },
      "outputs": [
        {
          "output_type": "stream",
          "name": "stdout",
          "text": [
            "Digite um número: 997\n",
            "3\n",
            "5\n",
            "7\n",
            "9\n",
            "11\n",
            "13\n",
            "15\n",
            "17\n",
            "19\n",
            "21\n",
            "23\n",
            "25\n",
            "27\n",
            "29\n",
            "O número é primo.\n",
            "5.459308624267578\n"
          ]
        }
      ],
      "source": [
        "import time\n",
        "\n",
        "number = int(input(\"Digite um número: \"))\n",
        "\n",
        "t1 = time.time()\n",
        "is_prime = True\n",
        "\n",
        "for i in range(3, int(number**(1/2)),2):\n",
        "  print(i)\n",
        "  if number % i == 0:\n",
        "    print(\"O número não é primo.\")\n",
        "    is_prime = False\n",
        "    break\n",
        "  \n",
        "if is_prime:\n",
        "  print(\"O número é primo.\")\n",
        "\n",
        "t2 = time.time()\n",
        "\n",
        "print((t2 - t1)*1000)"
      ]
    },
    {
      "cell_type": "code",
      "source": [],
      "metadata": {
        "id": "8G3_gKvuTfmi"
      },
      "execution_count": null,
      "outputs": []
    }
  ]
}